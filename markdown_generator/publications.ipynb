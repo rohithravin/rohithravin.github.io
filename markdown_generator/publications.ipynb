{
 "cells": [
  {
   "attachments": {},
   "cell_type": "markdown",
   "metadata": {
    "deletable": true,
    "editable": true
   },
   "source": [
    "# Publications markdown generator for academicpages\n",
    "\n",
    "Takes a TSV of publications with metadata and converts them for use with [academicpages.github.io](academicpages.github.io). This is an interactive Jupyter notebook ([see more info here](http://jupyter-notebook-beginner-guide.readthedocs.io/en/latest/what_is_jupyter.html)). The core python code is also in `publications.py`. Run either from the `markdown_generator` folder after replacing `publications.tsv` with one containing your data.\n",
    "\n",
    "TODO: Make this work with BibTex and other databases of citations, rather than Stuart's non-standard TSV format and citation style.\n"
   ]
  },
  {
   "attachments": {},
   "cell_type": "markdown",
   "metadata": {},
   "source": [
    "## Data format\n",
    "\n",
    "The TSV needs to have the following columns: pub_date, title, venue, excerpt, citation, site_url, and paper_url, with a header at the top. \n",
    "\n",
    "- `excerpt` and `paper_url` can be blank, but the others must have values. \n",
    "- `pub_date` must be formatted as YYYY-MM-DD.\n",
    "- `url_slug` will be the descriptive part of the .md file and the permalink URL for the page about the paper. The .md file will be `YYYY-MM-DD-[url_slug].md` and the permalink will be `https://[yourdomain]/publications/YYYY-MM-DD-[url_slug]`\n",
    "\n",
    "This is how the raw file looks (it doesn't look pretty, use a spreadsheet or other program to edit and create)."
   ]
  },
  {
   "cell_type": "code",
   "execution_count": 1,
   "metadata": {
    "collapsed": false
   },
   "outputs": [
    {
     "name": "stdout",
     "output_type": "stream",
     "text": [
      "pub_date\ttitle\tvenue\texcerpt\tcitation\turl_slug\tpaper_url\n",
      "2023-05-24\tPredicting Glaucoma Progression to Surgery with Artificial Intelligence Survival Models\tOphthalmology Science\t\"In the present study, we developed survival-based AI models for predicting glaucoma patients' progression to surgery, comparing performance among regression-, tree-, and deep-learning-based approaches.\"\tS. Tao, R. Ravindranath, and S. Y. Wang, \"Predicting Glaucoma Progression to Surgery with Artificial Intelligence Survival Models\",Ophthalmology Science, p. 100336, 2023.\tglaucoma-progression-survival-models\thttps://www.ophthalmologyscience.org/article/S2666-9145(23)00068-4/fulltext\n",
      "2023-04-01\tDifferences in Ideal Cardiovascular Health Between Sexual Minority and Heterosexual Adults\tJAMA Cardiology\t\"Research on the cardiovascular health (CVH) of sexual minority adults has primarily examined differences in the prevalence of individual CVH metrics rather than comprehensive measures, which has limited development of behavioral interventions. \"\tB. A. Caceres, Y. Sharma, R. Ravindranath et al., “Differences in Ideal Cardiovascular Health Between Sexual Minority and Heterosexual Adults”, JAMA Cardiology, vol. 8, no. 4, pp. 335–346, 04 2023.\tcardiovascular-differences-sgm\thttps://jamanetwork.com/journals/jamacardiology/articlepdf/2801472/jamacardiology_caceres_2023_oi_220090_1681233031.60781.pdf\n",
      "2023-11-16\tSocial Determinants of Health and Perceived Barriers to Care in Diabetic Retinopathy Screening\tJAMA Ophthalmology\t\"This study evaluated the associations between visiting an eye care practitioner for diabetic retinopathy screening and factors related to overall health and social determinants of health, including socioeconomic status and health care access and utilization\"\tRavindranath R, Bernstein IA, Fernandez KS, Ludwig CA, Wang SY. \"Social Determinants of Health and Perceived Barriers to Care in Diabetic Retinopathy Screening\". JAMA Ophthalmol. Published online November 16, 2023. doi:10.1001/jamaophthalmol.2023.5287\tdiabetic-retinopathy-screening-analysis\thttps://jamanetwork.com/journals/jamaophthalmology/article-abstract/2811932\n",
      "2022-10-30\tAn Investigation of Differences in Ideal Cardiovascular Health Between Sexual Minority and Heterosexual Adults: Findings From the National Health and Nutrition Examination Survey (2007-2016)\tCirculation\t\"In this study, we analyzed cross-sectional data from the National Health and Nutrition Examination Survey (2007-2016). Questionnaire, dietary, and physical examination data were used to assess the seven metrics included in the Life's Simple 7 measure.\"\tCaceres BA, Sharma Y, Ravindranath R, et al. \"An Investigation of Differences in Ideal Cardiovascular Health Between Sexual Minority and Heterosexual Adults: Findings From the National Health and Nutrition Examination Survey (2007-2016)\". Circulation. 2022;146:A9596. https://doi.org/10.1161/circ.146.suppl_1.9596. Abstract nr9596\tsgm-investigation-nhanes-abstract\thttps://www.ahajournals.org/doi/10.1161/circ.146.suppl_1.9596\n",
      "2023-11-06\tAn Examination of Differences in Ideal Cardiovascular Health Between Sexual Minority and Heterosexual Adults in the All of Us Research Program\tCirculation\t\"We analyzed data from the All of Us Research Program to examine sexual identity differences in CVH using the American Heart Association’s Life's Essential 8 measure of ideal CVH\"\tD  Doan, Ravindranath R, J Belloir, V Nguyen et al. An Examination of Differences in Ideal Cardiovascular Health Between Sexual Minority and Heterosexual Adults in the All of Us Research Program. Circulation. 2023; 148:A11548. https://doi.org/10.1161/circ.148.suppl_1.11548. Abstract nr11548\tcvd-differences-allofus\thttps://www.ahajournals.org/doi/abs/10.1161/circ.148.suppl_1.11548"
     ]
    }
   ],
   "source": [
    "!cat publications.tsv"
   ]
  },
  {
   "attachments": {},
   "cell_type": "markdown",
   "metadata": {},
   "source": [
    "## Import pandas\n",
    "\n",
    "We are using the very handy pandas library for dataframes."
   ]
  },
  {
   "cell_type": "code",
   "execution_count": 2,
   "metadata": {
    "collapsed": true,
    "deletable": true,
    "editable": true
   },
   "outputs": [],
   "source": [
    "import pandas as pd"
   ]
  },
  {
   "attachments": {},
   "cell_type": "markdown",
   "metadata": {},
   "source": [
    "## Import TSV\n",
    "\n",
    "Pandas makes this easy with the read_csv function. We are using a TSV, so we specify the separator as a tab, or `\\t`.\n",
    "\n",
    "I found it important to put this data in a tab-separated values format, because there are a lot of commas in this kind of data and comma-separated values can get messed up. However, you can modify the import statement, as pandas also has read_excel(), read_json(), and others."
   ]
  },
  {
   "cell_type": "code",
   "execution_count": 3,
   "metadata": {
    "collapsed": false,
    "deletable": true,
    "editable": true
   },
   "outputs": [
    {
     "data": {
      "text/html": [
       "<div>\n",
       "<style scoped>\n",
       "    .dataframe tbody tr th:only-of-type {\n",
       "        vertical-align: middle;\n",
       "    }\n",
       "\n",
       "    .dataframe tbody tr th {\n",
       "        vertical-align: top;\n",
       "    }\n",
       "\n",
       "    .dataframe thead th {\n",
       "        text-align: right;\n",
       "    }\n",
       "</style>\n",
       "<table border=\"1\" class=\"dataframe\">\n",
       "  <thead>\n",
       "    <tr style=\"text-align: right;\">\n",
       "      <th></th>\n",
       "      <th>pub_date</th>\n",
       "      <th>title</th>\n",
       "      <th>venue</th>\n",
       "      <th>excerpt</th>\n",
       "      <th>citation</th>\n",
       "      <th>url_slug</th>\n",
       "      <th>paper_url</th>\n",
       "    </tr>\n",
       "  </thead>\n",
       "  <tbody>\n",
       "    <tr>\n",
       "      <th>0</th>\n",
       "      <td>2023-05-24</td>\n",
       "      <td>Predicting Glaucoma Progression to Surgery wit...</td>\n",
       "      <td>Ophthalmology Science</td>\n",
       "      <td>In the present study, we developed survival-ba...</td>\n",
       "      <td>S. Tao, R. Ravindranath, and S. Y. Wang, \"Pred...</td>\n",
       "      <td>glaucoma-progression-survival-models</td>\n",
       "      <td>https://www.ophthalmologyscience.org/article/S...</td>\n",
       "    </tr>\n",
       "    <tr>\n",
       "      <th>1</th>\n",
       "      <td>2023-04-01</td>\n",
       "      <td>Differences in Ideal Cardiovascular Health Bet...</td>\n",
       "      <td>JAMA Cardiology</td>\n",
       "      <td>Research on the cardiovascular health (CVH) of...</td>\n",
       "      <td>B. A. Caceres, Y. Sharma, R. Ravindranath et a...</td>\n",
       "      <td>cardiovascular-differences-sgm</td>\n",
       "      <td>https://jamanetwork.com/journals/jamacardiolog...</td>\n",
       "    </tr>\n",
       "    <tr>\n",
       "      <th>2</th>\n",
       "      <td>2023-11-16</td>\n",
       "      <td>Social Determinants of Health and Perceived Ba...</td>\n",
       "      <td>JAMA Ophthalmology</td>\n",
       "      <td>This study evaluated the associations between ...</td>\n",
       "      <td>Ravindranath R, Bernstein IA, Fernandez KS, Lu...</td>\n",
       "      <td>diabetic-retinopathy-screening-analysis</td>\n",
       "      <td>https://jamanetwork.com/journals/jamaophthalmo...</td>\n",
       "    </tr>\n",
       "    <tr>\n",
       "      <th>3</th>\n",
       "      <td>2022-10-30</td>\n",
       "      <td>An Investigation of Differences in Ideal Cardi...</td>\n",
       "      <td>Circulation</td>\n",
       "      <td>In this study, we analyzed cross-sectional dat...</td>\n",
       "      <td>Caceres BA, Sharma Y, Ravindranath R, et al. \"...</td>\n",
       "      <td>sgm-investigation-nhanes-abstract</td>\n",
       "      <td>https://www.ahajournals.org/doi/10.1161/circ.1...</td>\n",
       "    </tr>\n",
       "    <tr>\n",
       "      <th>4</th>\n",
       "      <td>2023-11-06</td>\n",
       "      <td>An Examination of Differences in Ideal Cardiov...</td>\n",
       "      <td>Circulation</td>\n",
       "      <td>We analyzed data from the All of Us Research P...</td>\n",
       "      <td>D  Doan, Ravindranath R, J Belloir, V Nguyen e...</td>\n",
       "      <td>cvd-differences-allofus</td>\n",
       "      <td>https://www.ahajournals.org/doi/abs/10.1161/ci...</td>\n",
       "    </tr>\n",
       "  </tbody>\n",
       "</table>\n",
       "</div>"
      ],
      "text/plain": [
       "     pub_date                                              title  \\\n",
       "0  2023-05-24  Predicting Glaucoma Progression to Surgery wit...   \n",
       "1  2023-04-01  Differences in Ideal Cardiovascular Health Bet...   \n",
       "2  2023-11-16  Social Determinants of Health and Perceived Ba...   \n",
       "3  2022-10-30  An Investigation of Differences in Ideal Cardi...   \n",
       "4  2023-11-06  An Examination of Differences in Ideal Cardiov...   \n",
       "\n",
       "                   venue                                            excerpt  \\\n",
       "0  Ophthalmology Science  In the present study, we developed survival-ba...   \n",
       "1        JAMA Cardiology  Research on the cardiovascular health (CVH) of...   \n",
       "2     JAMA Ophthalmology  This study evaluated the associations between ...   \n",
       "3            Circulation  In this study, we analyzed cross-sectional dat...   \n",
       "4            Circulation  We analyzed data from the All of Us Research P...   \n",
       "\n",
       "                                            citation  \\\n",
       "0  S. Tao, R. Ravindranath, and S. Y. Wang, \"Pred...   \n",
       "1  B. A. Caceres, Y. Sharma, R. Ravindranath et a...   \n",
       "2  Ravindranath R, Bernstein IA, Fernandez KS, Lu...   \n",
       "3  Caceres BA, Sharma Y, Ravindranath R, et al. \"...   \n",
       "4  D  Doan, Ravindranath R, J Belloir, V Nguyen e...   \n",
       "\n",
       "                                  url_slug  \\\n",
       "0     glaucoma-progression-survival-models   \n",
       "1           cardiovascular-differences-sgm   \n",
       "2  diabetic-retinopathy-screening-analysis   \n",
       "3        sgm-investigation-nhanes-abstract   \n",
       "4                  cvd-differences-allofus   \n",
       "\n",
       "                                           paper_url  \n",
       "0  https://www.ophthalmologyscience.org/article/S...  \n",
       "1  https://jamanetwork.com/journals/jamacardiolog...  \n",
       "2  https://jamanetwork.com/journals/jamaophthalmo...  \n",
       "3  https://www.ahajournals.org/doi/10.1161/circ.1...  \n",
       "4  https://www.ahajournals.org/doi/abs/10.1161/ci...  "
      ]
     },
     "execution_count": 3,
     "metadata": {},
     "output_type": "execute_result"
    }
   ],
   "source": [
    "publications = pd.read_csv(\"publications.tsv\", sep=\"\\t\", header=0)\n",
    "publications\n"
   ]
  },
  {
   "attachments": {},
   "cell_type": "markdown",
   "metadata": {},
   "source": [
    "## Escape special characters\n",
    "\n",
    "YAML is very picky about how it takes a valid string, so we are replacing single and double quotes (and ampersands) with their HTML encoded equivilents. This makes them look not so readable in raw format, but they are parsed and rendered nicely."
   ]
  },
  {
   "cell_type": "code",
   "execution_count": 4,
   "metadata": {
    "collapsed": true,
    "deletable": true,
    "editable": true
   },
   "outputs": [],
   "source": [
    "html_escape_table = {\n",
    "    \"&\": \"&amp;\",\n",
    "    '\"': \"&quot;\",\n",
    "    \"'\": \"&apos;\"\n",
    "    }\n",
    "\n",
    "def html_escape(text):\n",
    "    \"\"\"Produce entities within text.\"\"\"\n",
    "    return \"\".join(html_escape_table.get(c,c) for c in text)"
   ]
  },
  {
   "attachments": {},
   "cell_type": "markdown",
   "metadata": {},
   "source": [
    "## Creating the markdown files\n",
    "\n",
    "This is where the heavy lifting is done. This loops through all the rows in the TSV dataframe, then starts to concatentate a big string (```md```) that contains the markdown for each type. It does the YAML metadata first, then does the description for the individual page."
   ]
  },
  {
   "cell_type": "code",
   "execution_count": 5,
   "metadata": {
    "collapsed": false,
    "deletable": true,
    "editable": true
   },
   "outputs": [],
   "source": [
    "import os\n",
    "for row, item in publications.iterrows():\n",
    "    \n",
    "    md_filename = str(item.pub_date) + \"-\" + item.url_slug + \".md\"\n",
    "    html_filename = str(item.pub_date) + \"-\" + item.url_slug\n",
    "    year = item.pub_date[:4]\n",
    "    \n",
    "    ## YAML variables\n",
    "    \n",
    "    md = \"---\\ntitle: \\\"\"   + item.title + '\"\\n'\n",
    "    \n",
    "    md += \"\"\"collection: publications\"\"\"\n",
    "    \n",
    "    md += \"\"\"\\npermalink: /publication/\"\"\" + html_filename\n",
    "    \n",
    "    if len(str(item.excerpt)) > 5:\n",
    "        md += \"\\nexcerpt: '\" + html_escape(item.excerpt) + \"'\"\n",
    "    \n",
    "    md += \"\\ndate: \" + str(item.pub_date) \n",
    "    \n",
    "    md += \"\\nvenue: '\" + html_escape(item.venue) + \"'\"\n",
    "    \n",
    "    if len(str(item.paper_url)) > 5:\n",
    "        md += \"\\npaperurl: '\" + item.paper_url + \"'\"\n",
    "    \n",
    "    md += \"\\ncitation: '\" + html_escape(item.citation) + \"'\"\n",
    "    \n",
    "    md += \"\\n---\"\n",
    "    \n",
    "    ## Markdown description for individual page\n",
    "        \n",
    "    if len(str(item.excerpt)) > 5:\n",
    "        md += \"\\n\" + html_escape(item.excerpt) + \"\\n\"\n",
    "    \n",
    "    if len(str(item.paper_url)) > 5:\n",
    "        md += \"\\n[Download paper here](\" + item.paper_url + \")\\n\" \n",
    "        \n",
    "    md += \"\\nRecommended citation: \" + item.citation\n",
    "    \n",
    "    md_filename = os.path.basename(md_filename)\n",
    "       \n",
    "    with open(\"../_publications/\" + md_filename, 'w') as f:\n",
    "        f.write(md)"
   ]
  },
  {
   "attachments": {},
   "cell_type": "markdown",
   "metadata": {},
   "source": [
    "These files are in the publications directory, one directory below where we're working from."
   ]
  },
  {
   "cell_type": "code",
   "execution_count": 6,
   "metadata": {
    "collapsed": false,
    "deletable": true,
    "editable": true
   },
   "outputs": [
    {
     "name": "stdout",
     "output_type": "stream",
     "text": [
      "2022-10-30-sgm-investigation-nhanes-abstract.md\n",
      "2023-04-01-cardiovascular-differences-sgm.md\n",
      "2023-05-24-glaucoma-progression-survival-models.md\n",
      "2023-11-06-cvd-differences-allofus.md\n",
      "2023-11-16-diabetic-retinopathy-screening-analysis.md\n"
     ]
    }
   ],
   "source": [
    "!ls ../_publications/"
   ]
  },
  {
   "cell_type": "code",
   "execution_count": 7,
   "metadata": {
    "collapsed": false,
    "deletable": true,
    "editable": true
   },
   "outputs": [
    {
     "name": "stdout",
     "output_type": "stream",
     "text": [
      "---\n",
      "title: \"Predicting Glaucoma Progression to Surgery with Artificial Intelligence Survival Models\"\n",
      "collection: publications\n",
      "permalink: /publication/2023-05-24-glaucoma-progression-survival-models\n",
      "excerpt: 'In the present study, we developed survival-based AI models for predicting glaucoma patients&apos; progression to surgery, comparing performance among regression-, tree-, and deep-learning-based approaches.'\n",
      "date: 2023-05-24\n",
      "venue: 'Ophthalmology Science'\n",
      "paperurl: 'https://www.ophthalmologyscience.org/article/S2666-9145(23)00068-4/fulltext'\n",
      "citation: 'S. Tao, R. Ravindranath, and S. Y. Wang, &quot;Predicting Glaucoma Progression to Surgery with Artificial Intelligence Survival Models&quot;,Ophthalmology Science, p. 100336, 2023.'\n",
      "---\n",
      "In the present study, we developed survival-based AI models for predicting glaucoma patients&apos; progression to surgery, comparing performance among regression-, tree-, and deep-learning-based approaches.\n",
      "\n",
      "[Download paper here](https://www.ophthalmologyscience.org/article/S2666-9145(23)00068-4/fulltext)\n",
      "\n",
      "Recommended citation: S. Tao, R. Ravindranath, and S. Y. Wang, \"Predicting Glaucoma Progression to Surgery with Artificial Intelligence Survival Models\",Ophthalmology Science, p. 100336, 2023."
     ]
    }
   ],
   "source": [
    "!cat ../_publications/2023-05-24-glaucoma-progression-survival-models.md"
   ]
  },
  {
   "cell_type": "code",
   "execution_count": null,
   "metadata": {
    "collapsed": true,
    "deletable": true,
    "editable": true
   },
   "outputs": [],
   "source": []
  }
 ],
 "metadata": {
  "kernelspec": {
   "display_name": "Python 3",
   "language": "python",
   "name": "python3"
  },
  "language_info": {
   "codemirror_mode": {
    "name": "ipython",
    "version": 3
   },
   "file_extension": ".py",
   "mimetype": "text/x-python",
   "name": "python",
   "nbconvert_exporter": "python",
   "pygments_lexer": "ipython3",
   "version": "3.8.11"
  }
 },
 "nbformat": 4,
 "nbformat_minor": 0
}
